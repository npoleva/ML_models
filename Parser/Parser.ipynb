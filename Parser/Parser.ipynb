{
 "cells": [
  {
   "cell_type": "code",
   "execution_count": 132,
   "metadata": {},
   "outputs": [],
   "source": [
    "import requests\n",
    "from bs4 import BeautifulSoup\n",
    "import lxml\n",
    "import csv"
   ]
  },
  {
   "cell_type": "code",
   "execution_count": 133,
   "metadata": {},
   "outputs": [],
   "source": [
    "url = 'https://move.ru/kvartiry/'"
   ]
  },
  {
   "cell_type": "code",
   "execution_count": 134,
   "metadata": {},
   "outputs": [],
   "source": [
    "response = requests.get(url)"
   ]
  },
  {
   "cell_type": "code",
   "execution_count": 135,
   "metadata": {},
   "outputs": [],
   "source": [
    "soup = BeautifulSoup(response.text, 'lxml')"
   ]
  },
  {
   "cell_type": "markdown",
   "metadata": {},
   "source": [
    "Получить все ссылки на объявления со страницы"
   ]
  },
  {
   "cell_type": "code",
   "execution_count": 136,
   "metadata": {},
   "outputs": [],
   "source": [
    "def get_links(soup):    \n",
    "    links = []\n",
    "    items = soup.find_all('div', class_='search-item__header')\n",
    "    for item in items:\n",
    "        link = item.find('a', class_='search-item__title-link search-item__item-link')\n",
    "        if link:\n",
    "            href = link.get('href')\n",
    "            full_link = f\"https:{href}\" \n",
    "            links.append(full_link)\n",
    "    return links"
   ]
  },
  {
   "cell_type": "markdown",
   "metadata": {},
   "source": [
    "Получить значение признака по имени"
   ]
  },
  {
   "cell_type": "code",
   "execution_count": 137,
   "metadata": {},
   "outputs": [],
   "source": [
    "def get_value(property_name, soup):\n",
    "    property_names = soup.find_all('div', class_='object-info__details-table_property_name')\n",
    "\n",
    "    for name in property_names:\n",
    "        if property_name in name.text:\n",
    "            value = name.find_next_sibling('div', class_='object-info__details-table_property_value')\n",
    "            if value:\n",
    "                value_text = value.text.strip()\n",
    "                return value_text\n",
    "    return '?'"
   ]
  },
  {
   "cell_type": "markdown",
   "metadata": {},
   "source": [
    "Получить все значения признаков"
   ]
  },
  {
   "cell_type": "code",
   "execution_count": 138,
   "metadata": {},
   "outputs": [],
   "source": [
    "def get_all_values(soup):    \n",
    "    price = get_value(\"Цена\", soup).replace('₽', '').replace(' ', '')\n",
    "    price_per_m2 = get_value(\"цена за м²\", soup).replace('₽', '').replace(' ', '')\n",
    "    level, count_levels = (get_value(\"Этаж\", soup).split('/') + ['?'])[:2]\n",
    "    ceiling_height = get_value(\"Высота потолков\", soup).replace('м', '').strip()\n",
    "    building_type = get_value(\"Тип объекта\", soup)\n",
    "    advertisement_type = get_value(\"Тип объявления\", soup)\n",
    "    total_space = get_value(\"Общая площадь\", soup).replace('м²', '').strip()\n",
    "    living_space = get_value(\"Жилая площадь\", soup).replace('м²', '').strip()\n",
    "    kitchen_space = get_value(\"Площадь кухни\", soup).replace('м²', '').strip()\n",
    "\n",
    "    return [price, price_per_m2, level, count_levels, ceiling_height, building_type, advertisement_type, total_space, living_space, kitchen_space]"
   ]
  },
  {
   "cell_type": "code",
   "execution_count": 139,
   "metadata": {},
   "outputs": [],
   "source": [
    "def get_all_values_from_page(url, writer):\n",
    "    response = requests.get(url)\n",
    "    soup = BeautifulSoup(response.text, 'lxml')\n",
    "    links = get_links(soup)\n",
    "    for link in links:\n",
    "        try:\n",
    "            response_element_page = requests.get(link)\n",
    "            soup_element_page = BeautifulSoup(response_element_page.text, 'lxml')\n",
    "            values = get_all_values(soup_element_page)\n",
    "            writer.writerow(values)\n",
    "        except (requests.exceptions.RequestException, Exception) as e:\n",
    "            print(\"too long\")"
   ]
  },
  {
   "cell_type": "code",
   "execution_count": 140,
   "metadata": {},
   "outputs": [
    {
     "name": "stdout",
     "output_type": "stream",
     "text": [
      "kaka\n",
      "kaka\n"
     ]
    }
   ],
   "source": [
    "with open('data.csv', mode='w', newline='', encoding='utf-8') as file:\n",
    "    writer = csv.writer(file)\n",
    "    \n",
    "    writer.writerow(['Price', 'Price for square meter', 'Level', 'Levels count', 'Ceiling height', 'Building type', 'Advertisement type', 'Total space', 'Living space', 'Kitchen space'])\n",
    "    for i in range(1, 15):\n",
    "      get_all_values_from_page(url+\"/?page={i}&limit=100\", writer)"
   ]
  }
 ],
 "metadata": {
  "kernelspec": {
   "display_name": "Python 3",
   "language": "python",
   "name": "python3"
  },
  "language_info": {
   "codemirror_mode": {
    "name": "ipython",
    "version": 3
   },
   "file_extension": ".py",
   "mimetype": "text/x-python",
   "name": "python",
   "nbconvert_exporter": "python",
   "pygments_lexer": "ipython3",
   "version": "3.12.2"
  }
 },
 "nbformat": 4,
 "nbformat_minor": 2
}
